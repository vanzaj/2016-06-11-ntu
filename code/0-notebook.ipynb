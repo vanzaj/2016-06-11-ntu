{
 "cells": [
  {
   "cell_type": "markdown",
   "metadata": {},
   "source": [
    "# Jupyter notebook\n",
    "\n",
    "Notebook is becoming a popular tool in scientific computing and business analytics (aka data science). It is also becoming a popular teaching tool.\n",
    "\n",
    "* Previously (2011--2015) known as **IPython notebook** (`.ipynb` file extension is still there)\n",
    "* Similar to Maple, Mathematica, Sage\n",
    "* Litterate programming enviroment (live/executable document with rich output)\n",
    "* Not limited to Python anymore (kernel for ~50 languages, R, Julia, Matlab/Octave, Haskel, Scala,...)\n",
    "* Used in many universities as well as by Google, Microsoft, IBM, Bloomberg, O'Reilly,...\n",
    "\n",
    "A notebook is a collection of *cells*. [Markdown](http://daringfireball.net/projects/markdown/) cells are rendered as html. Emphasis, lists, links, images,... i.e. much more than what's possible inside a traditional programming editor or an IDE. \n",
    "\n",
    "Say yes to $\\LaTeX$!\n",
    "\n",
    "$\\int_0^\\infty f(x) dx = 0$\n",
    "\n",
    "![actual jupiter](http://www.bobthealien.co.uk/jupitermain.png)\n",
    "\n",
    "Code cells can contain single or multi-line statements in any of the supported languages. When executed, code cells will display rich output directly below. \"Rich\" means text, html, image or javascript object (interactive visualization)."
   ]
  },
  {
   "cell_type": "code",
   "execution_count": null,
   "metadata": {
    "collapsed": true
   },
   "outputs": [],
   "source": [
    "from IPython.display import IFrame\n",
    "\n",
    "IFrame('https://jupyter.org', '100%', 450)"
   ]
  },
  {
   "cell_type": "code",
   "execution_count": null,
   "metadata": {
    "collapsed": false
   },
   "outputs": [],
   "source": [
    "# editor and interactive shell at the same time\n",
    "# auto print result of evaluation of the last line \n",
    "x = 2\n",
    "(x + 3) * 10"
   ]
  },
  {
   "cell_type": "code",
   "execution_count": null,
   "metadata": {
    "collapsed": false
   },
   "outputs": [],
   "source": [
    "import math\n",
    "\n",
    "r = 5\n",
    "area = math.pi * r **2\n",
    "area"
   ]
  },
  {
   "cell_type": "code",
   "execution_count": null,
   "metadata": {
    "collapsed": false
   },
   "outputs": [],
   "source": [
    "# code cells are in the same namespace\n",
    "print('Circle area is %.2f' % area)"
   ]
  },
  {
   "cell_type": "markdown",
   "metadata": {},
   "source": []
  },
  {
   "cell_type": "markdown",
   "metadata": {},
   "source": [
    "----\n",
    "**Q: What happens if we change the value of `r` above?**\n",
    "\n",
    "**Q: What happens if we we rearrange the order of cells?**\n",
    "\n",
    "-----"
   ]
  },
  {
   "cell_type": "markdown",
   "metadata": {},
   "source": [
    "## More interesting examples"
   ]
  },
  {
   "cell_type": "code",
   "execution_count": null,
   "metadata": {
    "collapsed": true
   },
   "outputs": [],
   "source": [
    "# get 90% of matlab functionality\n",
    "import numpy as np\n",
    "import matplotlib.pyplot as plt\n",
    "\n",
    "%matplotlib inline"
   ]
  },
  {
   "cell_type": "markdown",
   "metadata": {},
   "source": [
    "### Fair coin\n",
    "\n",
    "Is it a fair coin if you flip it 50 times and observe 35 heads?"
   ]
  },
  {
   "cell_type": "code",
   "execution_count": null,
   "metadata": {
    "collapsed": false
   },
   "outputs": [],
   "source": [
    "trial = np.random.randint(2, size=10)\n",
    "print(trial)\n",
    "print(trial.sum())"
   ]
  },
  {
   "cell_type": "code",
   "execution_count": null,
   "metadata": {
    "collapsed": false
   },
   "outputs": [],
   "source": [
    "N = 10000\n",
    "\n",
    "for i in range(N):\n",
    "    trial = np.random.randint(2, size=50)\n",
    "    # ???"
   ]
  },
  {
   "cell_type": "markdown",
   "metadata": {},
   "source": [
    "### Monte Carlo $\\pi$"
   ]
  },
  {
   "cell_type": "code",
   "execution_count": null,
   "metadata": {
    "collapsed": false
   },
   "outputs": [],
   "source": [
    "N = 10000\n",
    "\n",
    "x = np.random.rand(N)\n",
    "y = np.random.rand(N)\n",
    "inside = (x**2 + y**2) <= 1\n",
    "\n",
    "pi_est = float(np.sum(inside)) / N * 4\n",
    "print(pi_est)"
   ]
  },
  {
   "cell_type": "code",
   "execution_count": null,
   "metadata": {
    "collapsed": false
   },
   "outputs": [],
   "source": [
    "plt.axis('equal')\n",
    "plt.plot(x, y, '.')\n",
    "plt.plot(x[inside], y[inside], 'r.')"
   ]
  },
  {
   "cell_type": "markdown",
   "metadata": {},
   "source": [
    "### Simple interaction"
   ]
  },
  {
   "cell_type": "code",
   "execution_count": null,
   "metadata": {
    "collapsed": false
   },
   "outputs": [],
   "source": [
    "x = np.linspace(-np.pi, np.pi, 128)\n",
    "\n",
    "def plot_sine(freq=1.0):\n",
    "    y = np.sin(x * freq)\n",
    "    plt.plot(x, y, 'r.')\n",
    "    \n",
    "plot_sine()"
   ]
  },
  {
   "cell_type": "code",
   "execution_count": null,
   "metadata": {
    "collapsed": false
   },
   "outputs": [],
   "source": [
    "import ipywidgets as wdg\n",
    "\n",
    "wdg.interact(plot_sine, freq=(1,10))"
   ]
  },
  {
   "cell_type": "code",
   "execution_count": null,
   "metadata": {
    "collapsed": true
   },
   "outputs": [],
   "source": []
  }
 ],
 "metadata": {
  "kernelspec": {
   "display_name": "Python 2",
   "language": "python",
   "name": "python2"
  },
  "language_info": {
   "codemirror_mode": {
    "name": "ipython",
    "version": 2
   },
   "file_extension": ".py",
   "mimetype": "text/x-python",
   "name": "python",
   "nbconvert_exporter": "python",
   "pygments_lexer": "ipython2",
   "version": "2.7.11"
  }
 },
 "nbformat": 4,
 "nbformat_minor": 0
}
