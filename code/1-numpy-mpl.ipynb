{
 "cells": [
  {
   "cell_type": "markdown",
   "metadata": {},
   "source": [
    "# Scientific python"
   ]
  },
  {
   "cell_type": "code",
   "execution_count": null,
   "metadata": {
    "collapsed": false
   },
   "outputs": [],
   "source": [
    "# working with standard python lists\n",
    "\n",
    "N = 15\n",
    "\n",
    "x = range(N)\n",
    "\n",
    "y = [n**2 for n in x]\n",
    "\n",
    "for idx, item in enumerate(x):\n",
    "    print('%2d: %2d -> %3d' % (idx, item, y[idx]))\n",
    "\n",
    "print(type(x), type(y))  # `x` is actually a generator"
   ]
  },
  {
   "cell_type": "markdown",
   "metadata": {},
   "source": [
    "## Plotting"
   ]
  },
  {
   "cell_type": "code",
   "execution_count": null,
   "metadata": {
    "collapsed": false
   },
   "outputs": [],
   "source": [
    "import matplotlib.pyplot as plt\n",
    "%matplotlib inline\n",
    "\n",
    "plt.plot(x, y)"
   ]
  },
  {
   "cell_type": "markdown",
   "metadata": {},
   "source": [
    "-----\n",
    "\n",
    "**Q: What will happen if we multiply `x` by 2?**\n",
    "\n",
    "**Q: What happens when you do `'5' * 8`?**\n",
    "\n",
    "----"
   ]
  },
  {
   "cell_type": "code",
   "execution_count": null,
   "metadata": {
    "collapsed": true
   },
   "outputs": [],
   "source": [
    "# numpy + matplotlib == 95% of matlab\n",
    "\n",
    "import numpy as np"
   ]
  },
  {
   "cell_type": "code",
   "execution_count": null,
   "metadata": {
    "collapsed": false
   },
   "outputs": [],
   "source": [
    "x = np.arange(N)\n",
    "\n",
    "print(x)\n",
    "print(x * 2)\n",
    "\n",
    "print('-' * len(x)*3)\n",
    "print(type(x))"
   ]
  },
  {
   "cell_type": "code",
   "execution_count": null,
   "metadata": {
    "collapsed": false
   },
   "outputs": [],
   "source": [
    "def f(x):\n",
    "    return x**2\n",
    "\n",
    "plt.plot(x, f(x))"
   ]
  },
  {
   "cell_type": "code",
   "execution_count": null,
   "metadata": {
    "collapsed": false
   },
   "outputs": [],
   "source": [
    "def f(x):\n",
    "    return (x-6)**2\n",
    "\n",
    "plt.plot(x, f(x))\n",
    "plt.plot(x, f(x), 'ro')"
   ]
  },
  {
   "cell_type": "markdown",
   "metadata": {},
   "source": [
    "----\n",
    "**Q: What plot styles are available are available to you?**\n",
    "\n",
    "(hint: you don't actually need to google/stackoverflow it)\n",
    "\n",
    "----"
   ]
  },
  {
   "cell_type": "code",
   "execution_count": null,
   "metadata": {
    "collapsed": false
   },
   "outputs": [],
   "source": [
    "plt.plot(x, f(x))\n",
    "plt.plot(x, f(x), 'ro')\n",
    "\n",
    "plt.xlabel('x')\n",
    "plt.ylabel('f(x)')\n",
    "plt.title('parabola')"
   ]
  },
  {
   "cell_type": "code",
   "execution_count": null,
   "metadata": {
    "collapsed": false
   },
   "outputs": [],
   "source": [
    "# plot can take multiple arrays\n",
    "x = np.linspace(-np.pi, np.pi, 256)\n",
    "\n",
    "plt.plot(x, np.sin(x), 'k', x, np.cos(x), 'r')\n",
    "plt.grid()"
   ]
  },
  {
   "cell_type": "code",
   "execution_count": null,
   "metadata": {
    "collapsed": false
   },
   "outputs": [],
   "source": [
    "# indexing of arrays is the same as for list\n",
    "\n",
    "x = np.arange(-1, 3, 0.5)\n",
    "\n",
    "print('array:', x)\n",
    "print('first, last:', x[0], x[-1])\n",
    "print('every 2d:', x[::2])"
   ]
  },
  {
   "cell_type": "markdown",
   "metadata": {},
   "source": [
    "## NumPy is a huge library..."
   ]
  },
  {
   "cell_type": "code",
   "execution_count": null,
   "metadata": {
    "collapsed": false
   },
   "outputs": [],
   "source": [
    "sample_size = 500\n",
    "pts = np.random.randn(sample_size)\n",
    "\n",
    "plt.hist(pts, normed=True)"
   ]
  },
  {
   "cell_type": "markdown",
   "metadata": {},
   "source": [
    "## Least-squares fit"
   ]
  },
  {
   "cell_type": "markdown",
   "metadata": {},
   "source": [
    "linear model: $a*x + b + $ noise with $a = 0.75, b=-3$"
   ]
  },
  {
   "cell_type": "code",
   "execution_count": null,
   "metadata": {
    "collapsed": false
   },
   "outputs": [],
   "source": [
    "N = 50\n",
    "x = np.linspace(-10, 20, N)\n",
    "noise =  np.random.randn(N) * 2\n",
    "\n",
    "a, b = 0.75, -3\n",
    "\n",
    "y = a * x + b + noise\n",
    "\n",
    "plt.plot(x, y, '+')"
   ]
  },
  {
   "cell_type": "code",
   "execution_count": null,
   "metadata": {
    "collapsed": false
   },
   "outputs": [],
   "source": [
    "a1, b1 = np.polyfit(x, y, 1)\n",
    "\n",
    "print('a = %.3f, b = %.3f' % (a1, b1))\n",
    "\n",
    "y1 = a1 * x + b1\n",
    "\n",
    "plt.plot(x, y, '+')\n",
    "plt.plot(x, y1, 'r-')"
   ]
  },
  {
   "cell_type": "markdown",
   "metadata": {},
   "source": [
    "----\n",
    "\n",
    "**Q: How would you simulate a higher order polynomial fit? **\n",
    "\n",
    "----"
   ]
  },
  {
   "cell_type": "markdown",
   "metadata": {},
   "source": [
    "# SciPy module\n",
    "\n",
    "## Interpolation example"
   ]
  },
  {
   "cell_type": "code",
   "execution_count": null,
   "metadata": {
    "collapsed": true
   },
   "outputs": [],
   "source": [
    "from scipy import interpolate"
   ]
  },
  {
   "cell_type": "code",
   "execution_count": null,
   "metadata": {
    "collapsed": false
   },
   "outputs": [],
   "source": [
    "# simulate a sine wave + linear drift\n",
    "def f(x):\n",
    "    return np.sin(x) - 0.3 * x\n",
    "\n",
    "x_real = np.arange(0, 20, 0.1)\n",
    "y_real = f(x_real)\n",
    "\n",
    "x = x_real[::10]\n",
    "N = len(x)\n",
    "y = f(x) + np.random.randn(N) * 0.5\n",
    "\n",
    "plt.plot(x_real, y_real, 'k--')\n",
    "plt.plot(x, y, 'o-')"
   ]
  },
  {
   "cell_type": "code",
   "execution_count": null,
   "metadata": {
    "collapsed": true
   },
   "outputs": [],
   "source": [
    "interpolate.interp1d?"
   ]
  },
  {
   "cell_type": "code",
   "execution_count": null,
   "metadata": {
    "collapsed": false
   },
   "outputs": [],
   "source": [
    "f_approx = interpolate.interp1d(x, y, kind='cubic',  bounds_error=False,)\n",
    "\n",
    "y_est = f_approx(x_real)\n",
    "\n",
    "plt.plot(x_real, y_real, 'k--')\n",
    "plt.plot(x_real, y_est)"
   ]
  },
  {
   "cell_type": "markdown",
   "metadata": {},
   "source": [
    "## Pandas"
   ]
  },
  {
   "cell_type": "code",
   "execution_count": null,
   "metadata": {
    "collapsed": false
   },
   "outputs": [],
   "source": [
    "import pandas as pd"
   ]
  },
  {
   "cell_type": "code",
   "execution_count": null,
   "metadata": {
    "collapsed": false
   },
   "outputs": [],
   "source": [
    "df = pd.read_csv('../data/players_dat.csv')\n",
    "df.head(5)"
   ]
  },
  {
   "cell_type": "code",
   "execution_count": null,
   "metadata": {
    "collapsed": false
   },
   "outputs": [],
   "source": [
    "df.describe()"
   ]
  },
  {
   "cell_type": "code",
   "execution_count": null,
   "metadata": {
    "collapsed": false
   },
   "outputs": [],
   "source": [
    "df.sort_values(by='cash', ascending=False).head(10)"
   ]
  },
  {
   "cell_type": "code",
   "execution_count": null,
   "metadata": {
    "collapsed": false
   },
   "outputs": [],
   "source": [
    "df[ (df['gender'] == 'F') & (df['country'] == \"US\") ]"
   ]
  },
  {
   "cell_type": "code",
   "execution_count": null,
   "metadata": {
    "collapsed": false
   },
   "outputs": [],
   "source": [
    "df.groupby(['country']).cash.mean().plot(kind='bar', title=\"Cash\", rot=0)"
   ]
  },
  {
   "cell_type": "markdown",
   "metadata": {},
   "source": [
    "## Numerical/Scientific modules and packages\n",
    "\n",
    "Core functionality\n",
    "\n",
    "* [NumPy](http://www.numpy.org/) - Fundamental package for scientific computing (N-dimensional array object, integration with C/C++/Fortran code, linear algebra, random numbers, FFT, ... )\n",
    "* [Matplotlib](http://matplotlib.org/) - Fundamental 2D plotting library\n",
    "\n",
    "\n",
    "* [SciPy library](http://docs.scipy.org/doc/scipy/reference/) - Collection of libraries for scientific computing (Integration, Interpolation, Optimization, Special functions, ...)\n",
    "* [Pandas](http://pandas.pydata.org/) - data analysis on steroids\n",
    "\n",
    "\n",
    "Main packages/libraries\n",
    "\n",
    "\n",
    "* [Statsmodels](http://statsmodels.sourceforge.net/) - Advanced Stats modeling\n",
    "* [SymPy](http://sympy.org/) - Symbolic mathematics\n",
    "\n",
    "* [scikit-learn](http://scikit-learn.org/) - Machine Learning\n",
    "* [scikit-image](http://scikit-image.org/) - Image processing\n",
    "\n",
    "\n",
    "Specialized packages/libraries\n",
    "\n",
    "* [astropy](http://www.astropy.org/) - Astronomy in Python\n",
    "* [biopython](http://biopython.org/) - Computational Biology\n",
    "* [nipy](http://nipy.org/) - NeuroImaging in Python\n",
    "* ...\n",
    "\n",
    "<!-- -->\n",
    "\n",
    "* [PyTables](http://www.pytables.org) - Hierarchical datasets (HDF5)\n",
    "* [disco](http://discoproject.org/) - MapReduce in Python\n",
    "* [PyCUDA](http://documen.tician.de/pycuda/) - GPU and Python\n",
    "* ..."
   ]
  },
  {
   "cell_type": "code",
   "execution_count": null,
   "metadata": {
    "collapsed": true
   },
   "outputs": [],
   "source": []
  }
 ],
 "metadata": {
  "kernelspec": {
   "display_name": "Python 3",
   "language": "python",
   "name": "python3"
  },
  "language_info": {
   "codemirror_mode": {
    "name": "ipython",
    "version": 3
   },
   "file_extension": ".py",
   "mimetype": "text/x-python",
   "name": "python",
   "nbconvert_exporter": "python",
   "pygments_lexer": "ipython3",
   "version": "3.5.1"
  }
 },
 "nbformat": 4,
 "nbformat_minor": 0
}
